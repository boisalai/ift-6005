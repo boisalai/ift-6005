{
 "cells": [
  {
   "cell_type": "code",
   "execution_count": null,
   "metadata": {},
   "outputs": [],
   "source": [
    "\"\"\"\n",
    "Au lieu d'utiliser pydantic, on peut utiliser attrs qui est plus simple et plus rapide.\n",
    "Voir https://github.com/python-attrs/attrs\n",
    "\"\"\"\n",
    "from attrs import define\n",
    "\n",
    "@define\n",
    "class User:\n",
    "    name: str\n",
    "    age: int\n",
    "\n",
    "data = {\"name\": \"Bob\", \"age\": 30}\n",
    "user = User(**data)"
   ]
  }
 ],
 "metadata": {
  "kernelspec": {
   "display_name": "venv",
   "language": "python",
   "name": "python3"
  },
  "language_info": {
   "name": "python",
   "version": "3.11.11"
  }
 },
 "nbformat": 4,
 "nbformat_minor": 2
}
